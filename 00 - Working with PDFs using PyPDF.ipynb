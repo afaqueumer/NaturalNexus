{
 "cells": [
  {
   "cell_type": "markdown",
   "id": "350d737e",
   "metadata": {},
   "source": [
    "## Install PyPDF"
   ]
  },
  {
   "cell_type": "code",
   "execution_count": 1,
   "id": "06fa5d39",
   "metadata": {},
   "outputs": [
    {
     "name": "stdout",
     "output_type": "stream",
     "text": [
      "Requirement already satisfied: pypdf in c:\\users\\afaqu\\.virtualenvs\\nlp-5ajhb38l\\lib\\site-packages (3.4.1)Note: you may need to restart the kernel to use updated packages.\n",
      "\n",
      "Requirement already satisfied: typing_extensions>=3.10.0.0 in c:\\users\\afaqu\\.virtualenvs\\nlp-5ajhb38l\\lib\\site-packages (from pypdf) (4.5.0)\n"
     ]
    }
   ],
   "source": [
    "pip install pypdf"
   ]
  },
  {
   "cell_type": "markdown",
   "id": "9a950f2a",
   "metadata": {},
   "source": [
    "### Importing Libraries"
   ]
  },
  {
   "cell_type": "code",
   "execution_count": 2,
   "id": "8140361b",
   "metadata": {},
   "outputs": [],
   "source": [
    "import pypdf as pdf\n",
    "from pypdf import PdfReader, PdfWriter"
   ]
  },
  {
   "cell_type": "code",
   "execution_count": 3,
   "id": "15a5c261",
   "metadata": {},
   "outputs": [],
   "source": [
    "#print(dir(pdf))"
   ]
  },
  {
   "cell_type": "code",
   "execution_count": 4,
   "id": "618ead1e",
   "metadata": {},
   "outputs": [],
   "source": [
    "#print(dir(PdfReader))"
   ]
  },
  {
   "cell_type": "code",
   "execution_count": 5,
   "id": "87b97d90",
   "metadata": {},
   "outputs": [
    {
     "data": {
      "text/plain": [
       "'3.4.1'"
      ]
     },
     "execution_count": 5,
     "metadata": {},
     "output_type": "execute_result"
    }
   ],
   "source": [
    "pdf.__version__"
   ]
  },
  {
   "cell_type": "markdown",
   "id": "5e0ea1ee",
   "metadata": {},
   "source": [
    "### Reading PDFs"
   ]
  },
  {
   "cell_type": "code",
   "execution_count": 6,
   "id": "429cecf8",
   "metadata": {},
   "outputs": [],
   "source": [
    "file = open(\"Deep Learning Essentials.pdf\", mode='rb')\n",
    "reader = PdfReader(file)\n",
    "# file.close() # Will throw errors, need to close after performing all operations"
   ]
  },
  {
   "cell_type": "code",
   "execution_count": 7,
   "id": "02be211a",
   "metadata": {},
   "outputs": [
    {
     "name": "stdout",
     "output_type": "stream",
     "text": [
      "19\n"
     ]
    }
   ],
   "source": [
    "print(len(reader.pages))"
   ]
  },
  {
   "cell_type": "code",
   "execution_count": 8,
   "id": "293fcc5a",
   "metadata": {},
   "outputs": [
    {
     "data": {
      "text/plain": [
       "{'/Creator': 'Mozilla/5.0 (Windows NT 10.0; Win64; x64) AppleWebKit/537.36 (KHTML, like Gecko) Chrome/110.0.0.0 Safari/537.36',\n",
       " '/Producer': 'Skia/PDF m110',\n",
       " '/CreationDate': \"D:20230220171857+00'00'\",\n",
       " '/ModDate': \"D:20230220171857+00'00'\"}"
      ]
     },
     "execution_count": 8,
     "metadata": {},
     "output_type": "execute_result"
    }
   ],
   "source": [
    "reader.metadata"
   ]
  },
  {
   "cell_type": "code",
   "execution_count": 9,
   "id": "702a5d01",
   "metadata": {},
   "outputs": [
    {
     "name": "stdout",
     "output_type": "stream",
     "text": [
      "None\n",
      "Mozilla/5.0 (Windows NT 10.0; Win64; x64) AppleWebKit/537.36 (KHTML, like Gecko) Chrome/110.0.0.0 Safari/537.36\n",
      "Skia/PDF m110\n",
      "None\n",
      "None\n"
     ]
    }
   ],
   "source": [
    "meta = reader.metadata\n",
    "\n",
    "# All of the following could be None!\n",
    "print(meta.author)\n",
    "print(meta.creator)\n",
    "print(meta.producer)\n",
    "print(meta.subject)\n",
    "print(meta.title)"
   ]
  },
  {
   "cell_type": "markdown",
   "id": "a66375ba",
   "metadata": {},
   "source": [
    "### Page Object and Text Extraction"
   ]
  },
  {
   "cell_type": "code",
   "execution_count": 10,
   "id": "e9da88a9",
   "metadata": {
    "scrolled": true
   },
   "outputs": [
    {
     "data": {
      "text/plain": [
       "{'/Type': '/Page',\n",
       " '/Resources': {'/ProcSet': ['/PDF', '/Text', '/ImageB', '/ImageC', '/ImageI'],\n",
       "  '/ExtGState': {'/G3': {'/ca': 1, '/BM': '/Normal'}},\n",
       "  '/XObject': {'/X41': {'/Type': '/XObject',\n",
       "    '/Subtype': '/Image',\n",
       "    '/Width': 828,\n",
       "    '/Height': 600,\n",
       "    '/ColorSpace': '/DeviceRGB',\n",
       "    '/BitsPerComponent': 8,\n",
       "    '/Filter': '/FlateDecode'}},\n",
       "  '/Font': {'/F4': {'/Type': '/Font',\n",
       "    '/Subtype': '/Type0',\n",
       "    '/BaseFont': '/AAAAAA+ArialMT',\n",
       "    '/Encoding': '/Identity-H',\n",
       "    '/DescendantFonts': [IndirectObject(633, 0, 3048467589152)],\n",
       "    '/ToUnicode': {'/Filter': '/FlateDecode'}},\n",
       "   '/F5': {'/Type': '/Font',\n",
       "    '/Subtype': '/Type3',\n",
       "    '/FontMatrix': [0.00048828125, 0, 0, -0.00048828125, 0, 0],\n",
       "    '/Resources': {'/XObject': {'/Xg16F7': {'/Type': '/XObject',\n",
       "       '/Subtype': '/Image',\n",
       "       '/Width': 68,\n",
       "       '/Height': 64,\n",
       "       '/ColorSpace': '/DeviceRGB',\n",
       "       '/SMask': {'/Type': '/XObject',\n",
       "        '/Subtype': '/Image',\n",
       "        '/Width': 68,\n",
       "        '/Height': 64,\n",
       "        '/ColorSpace': '/DeviceGray',\n",
       "        '/BitsPerComponent': 8,\n",
       "        '/Filter': '/FlateDecode'},\n",
       "       '/BitsPerComponent': 8,\n",
       "       '/Filter': '/FlateDecode'},\n",
       "      '/Xg1776': {'/Type': '/XObject',\n",
       "       '/Subtype': '/Image',\n",
       "       '/Width': 59,\n",
       "       '/Height': 63,\n",
       "       '/ColorSpace': '/DeviceRGB',\n",
       "       '/SMask': {'/Type': '/XObject',\n",
       "        '/Subtype': '/Image',\n",
       "        '/Width': 59,\n",
       "        '/Height': 63,\n",
       "        '/ColorSpace': '/DeviceGray',\n",
       "        '/BitsPerComponent': 8,\n",
       "        '/Filter': '/FlateDecode'},\n",
       "       '/BitsPerComponent': 8,\n",
       "       '/Filter': '/FlateDecode'},\n",
       "      '/Xg177E': {'/Type': '/XObject',\n",
       "       '/Subtype': '/Image',\n",
       "       '/Width': 60,\n",
       "       '/Height': 63,\n",
       "       '/ColorSpace': '/DeviceRGB',\n",
       "       '/SMask': {'/Type': '/XObject',\n",
       "        '/Subtype': '/Image',\n",
       "        '/Width': 60,\n",
       "        '/Height': 63,\n",
       "        '/ColorSpace': '/DeviceGray',\n",
       "        '/BitsPerComponent': 8,\n",
       "        '/Filter': '/FlateDecode'},\n",
       "       '/BitsPerComponent': 8,\n",
       "       '/Filter': '/FlateDecode'},\n",
       "      '/Xg1786': {'/Type': '/XObject',\n",
       "       '/Subtype': '/Image',\n",
       "       '/Width': 64,\n",
       "       '/Height': 58,\n",
       "       '/ColorSpace': '/DeviceRGB',\n",
       "       '/SMask': {'/Type': '/XObject',\n",
       "        '/Subtype': '/Image',\n",
       "        '/Width': 64,\n",
       "        '/Height': 58,\n",
       "        '/ColorSpace': '/DeviceGray',\n",
       "        '/BitsPerComponent': 8,\n",
       "        '/Filter': '/FlateDecode'},\n",
       "       '/BitsPerComponent': 8,\n",
       "       '/Filter': '/FlateDecode'}}},\n",
       "    '/FirstChar': 0,\n",
       "    '/LastChar': 157,\n",
       "    '/FontBBox': [166, 312, 2486, -1726],\n",
       "    '/CIDToGIDMap': '/Identity',\n",
       "    '/ToUnicode': {'/Filter': '/FlateDecode'},\n",
       "    '/FontDescriptor': {'/Type': '/FontDescriptor',\n",
       "     '/FontName': '/BAAAAA+SegoeUIEmoji',\n",
       "     '/ItalicAngle': 0,\n",
       "     '/CapHeight': 1434,\n",
       "     '/StemV': 109,\n",
       "     '/XHeight': 1024,\n",
       "     '/Flags': 4},\n",
       "    '/Widths': [1322,\n",
       "     0,\n",
       "     0,\n",
       "     0,\n",
       "     0,\n",
       "     0,\n",
       "     0,\n",
       "     0,\n",
       "     0,\n",
       "     0,\n",
       "     0,\n",
       "     0,\n",
       "     0,\n",
       "     0,\n",
       "     2812,\n",
       "     0,\n",
       "     0,\n",
       "     0,\n",
       "     0,\n",
       "     0,\n",
       "     0,\n",
       "     0,\n",
       "     0,\n",
       "     0,\n",
       "     0,\n",
       "     0,\n",
       "     0,\n",
       "     0,\n",
       "     0,\n",
       "     0,\n",
       "     0,\n",
       "     0,\n",
       "     0,\n",
       "     0,\n",
       "     0,\n",
       "     0,\n",
       "     0,\n",
       "     0,\n",
       "     0,\n",
       "     0,\n",
       "     0,\n",
       "     0,\n",
       "     0,\n",
       "     0,\n",
       "     0,\n",
       "     0,\n",
       "     0,\n",
       "     0,\n",
       "     0,\n",
       "     0,\n",
       "     0,\n",
       "     0,\n",
       "     0,\n",
       "     0,\n",
       "     0,\n",
       "     0,\n",
       "     0,\n",
       "     0,\n",
       "     0,\n",
       "     0,\n",
       "     0,\n",
       "     0,\n",
       "     0,\n",
       "     0,\n",
       "     0,\n",
       "     0,\n",
       "     0,\n",
       "     0,\n",
       "     0,\n",
       "     0,\n",
       "     0,\n",
       "     0,\n",
       "     0,\n",
       "     0,\n",
       "     0,\n",
       "     0,\n",
       "     0,\n",
       "     0,\n",
       "     0,\n",
       "     0,\n",
       "     0,\n",
       "     0,\n",
       "     0,\n",
       "     0,\n",
       "     0,\n",
       "     0,\n",
       "     0,\n",
       "     0,\n",
       "     0,\n",
       "     0,\n",
       "     0,\n",
       "     0,\n",
       "     0,\n",
       "     0,\n",
       "     0,\n",
       "     0,\n",
       "     0,\n",
       "     0,\n",
       "     0,\n",
       "     0,\n",
       "     0,\n",
       "     0,\n",
       "     0,\n",
       "     0,\n",
       "     0,\n",
       "     0,\n",
       "     0,\n",
       "     0,\n",
       "     0,\n",
       "     0,\n",
       "     0,\n",
       "     0,\n",
       "     0,\n",
       "     0,\n",
       "     0,\n",
       "     0,\n",
       "     0,\n",
       "     0,\n",
       "     0,\n",
       "     0,\n",
       "     0,\n",
       "     0,\n",
       "     0,\n",
       "     0,\n",
       "     0,\n",
       "     0,\n",
       "     0,\n",
       "     0,\n",
       "     0,\n",
       "     0,\n",
       "     0,\n",
       "     0,\n",
       "     0,\n",
       "     0,\n",
       "     0,\n",
       "     0,\n",
       "     0,\n",
       "     0,\n",
       "     0,\n",
       "     0,\n",
       "     0,\n",
       "     2812,\n",
       "     0,\n",
       "     0,\n",
       "     0,\n",
       "     0,\n",
       "     0,\n",
       "     0,\n",
       "     0,\n",
       "     2812,\n",
       "     0,\n",
       "     0,\n",
       "     0,\n",
       "     0,\n",
       "     0,\n",
       "     0,\n",
       "     0,\n",
       "     2812],\n",
       "    '/Encoding': {'/Type': '/Encoding',\n",
       "     '/Differences': [0,\n",
       "      '/g0',\n",
       "      '/g0',\n",
       "      '/g0',\n",
       "      '/g0',\n",
       "      '/g0',\n",
       "      '/g0',\n",
       "      '/g0',\n",
       "      '/g0',\n",
       "      '/g0',\n",
       "      '/g0',\n",
       "      '/g0',\n",
       "      '/g0',\n",
       "      '/g0',\n",
       "      '/g0',\n",
       "      '/g16F7',\n",
       "      '/g0',\n",
       "      '/g0',\n",
       "      '/g0',\n",
       "      '/g0',\n",
       "      '/g0',\n",
       "      '/g0',\n",
       "      '/g0',\n",
       "      '/g0',\n",
       "      '/g0',\n",
       "      '/g0',\n",
       "      '/g0',\n",
       "      '/g0',\n",
       "      '/g0',\n",
       "      '/g0',\n",
       "      '/g0',\n",
       "      '/g0',\n",
       "      '/g0',\n",
       "      '/g0',\n",
       "      '/g0',\n",
       "      '/g0',\n",
       "      '/g0',\n",
       "      '/g0',\n",
       "      '/g0',\n",
       "      '/g0',\n",
       "      '/g0',\n",
       "      '/g0',\n",
       "      '/g0',\n",
       "      '/g0',\n",
       "      '/g0',\n",
       "      '/g0',\n",
       "      '/g0',\n",
       "      '/g0',\n",
       "      '/g0',\n",
       "      '/g0',\n",
       "      '/g0',\n",
       "      '/g0',\n",
       "      '/g0',\n",
       "      '/g0',\n",
       "      '/g0',\n",
       "      '/g0',\n",
       "      '/g0',\n",
       "      '/g0',\n",
       "      '/g0',\n",
       "      '/g0',\n",
       "      '/g0',\n",
       "      '/g0',\n",
       "      '/g0',\n",
       "      '/g0',\n",
       "      '/g0',\n",
       "      '/g0',\n",
       "      '/g0',\n",
       "      '/g0',\n",
       "      '/g0',\n",
       "      '/g0',\n",
       "      '/g0',\n",
       "      '/g0',\n",
       "      '/g0',\n",
       "      '/g0',\n",
       "      '/g0',\n",
       "      '/g0',\n",
       "      '/g0',\n",
       "      '/g0',\n",
       "      '/g0',\n",
       "      '/g0',\n",
       "      '/g0',\n",
       "      '/g0',\n",
       "      '/g0',\n",
       "      '/g0',\n",
       "      '/g0',\n",
       "      '/g0',\n",
       "      '/g0',\n",
       "      '/g0',\n",
       "      '/g0',\n",
       "      '/g0',\n",
       "      '/g0',\n",
       "      '/g0',\n",
       "      '/g0',\n",
       "      '/g0',\n",
       "      '/g0',\n",
       "      '/g0',\n",
       "      '/g0',\n",
       "      '/g0',\n",
       "      '/g0',\n",
       "      '/g0',\n",
       "      '/g0',\n",
       "      '/g0',\n",
       "      '/g0',\n",
       "      '/g0',\n",
       "      '/g0',\n",
       "      '/g0',\n",
       "      '/g0',\n",
       "      '/g0',\n",
       "      '/g0',\n",
       "      '/g0',\n",
       "      '/g0',\n",
       "      '/g0',\n",
       "      '/g0',\n",
       "      '/g0',\n",
       "      '/g0',\n",
       "      '/g0',\n",
       "      '/g0',\n",
       "      '/g0',\n",
       "      '/g0',\n",
       "      '/g0',\n",
       "      '/g0',\n",
       "      '/g0',\n",
       "      '/g0',\n",
       "      '/g0',\n",
       "      '/g0',\n",
       "      '/g0',\n",
       "      '/g0',\n",
       "      '/g0',\n",
       "      '/g0',\n",
       "      '/g0',\n",
       "      '/g0',\n",
       "      '/g0',\n",
       "      '/g0',\n",
       "      '/g0',\n",
       "      '/g0',\n",
       "      '/g0',\n",
       "      '/g0',\n",
       "      '/g0',\n",
       "      '/g0',\n",
       "      '/g0',\n",
       "      '/g0',\n",
       "      '/g0',\n",
       "      '/g1776',\n",
       "      '/g0',\n",
       "      '/g0',\n",
       "      '/g0',\n",
       "      '/g0',\n",
       "      '/g0',\n",
       "      '/g0',\n",
       "      '/g0',\n",
       "      '/g177E',\n",
       "      '/g0',\n",
       "      '/g0',\n",
       "      '/g0',\n",
       "      '/g0',\n",
       "      '/g0',\n",
       "      '/g0',\n",
       "      '/g0',\n",
       "      '/g1786']},\n",
       "    '/CharProcs': {'/g0': {'/Filter': '/FlateDecode'},\n",
       "     '/g16F7': {},\n",
       "     '/g1776': {},\n",
       "     '/g177E': {},\n",
       "     '/g1786': {}}},\n",
       "   '/F8': {'/Type': '/Font',\n",
       "    '/Subtype': '/Type0',\n",
       "    '/BaseFont': '/DAAAAA+OTS-derived-font',\n",
       "    '/Encoding': '/Identity-H',\n",
       "    '/DescendantFonts': [IndirectObject(656, 0, 3048467589152)],\n",
       "    '/ToUnicode': {'/Filter': '/FlateDecode'}},\n",
       "   '/F10': {'/Type': '/Font',\n",
       "    '/Subtype': '/Type0',\n",
       "    '/BaseFont': '/EAAAAA+OTS-derived-font',\n",
       "    '/Encoding': '/Identity-H',\n",
       "    '/DescendantFonts': [IndirectObject(660, 0, 3048467589152)],\n",
       "    '/ToUnicode': {'/Filter': '/FlateDecode'}},\n",
       "   '/F39': {'/Type': '/Font',\n",
       "    '/Subtype': '/Type0',\n",
       "    '/BaseFont': '/FAAAAA+OTS-derived-font',\n",
       "    '/Encoding': '/Identity-H',\n",
       "    '/DescendantFonts': [IndirectObject(669, 0, 3048467589152)],\n",
       "    '/ToUnicode': {'/Filter': '/FlateDecode'}},\n",
       "   '/F40': {'/Type': '/Font',\n",
       "    '/Subtype': '/Type0',\n",
       "    '/BaseFont': '/GAAAAA+OTS-derived-font',\n",
       "    '/Encoding': '/Identity-H',\n",
       "    '/DescendantFonts': [IndirectObject(673, 0, 3048467589152)],\n",
       "    '/ToUnicode': {'/Filter': '/FlateDecode'}}}},\n",
       " '/MediaBox': [0, 0, 612, 792],\n",
       " '/Annots': [IndirectObject(42, 0, 3048467589152)],\n",
       " '/Contents': {'/Filter': '/FlateDecode'},\n",
       " '/StructParents': 1,\n",
       " '/Parent': {'/Type': '/Pages',\n",
       "  '/Count': 8,\n",
       "  '/Kids': [IndirectObject(2, 0, 3048467589152),\n",
       "   IndirectObject(38, 0, 3048467589152),\n",
       "   IndirectObject(44, 0, 3048467589152),\n",
       "   IndirectObject(49, 0, 3048467589152),\n",
       "   IndirectObject(58, 0, 3048467589152),\n",
       "   IndirectObject(62, 0, 3048467589152),\n",
       "   IndirectObject(66, 0, 3048467589152),\n",
       "   IndirectObject(69, 0, 3048467589152)],\n",
       "  '/Parent': {'/Type': '/Pages',\n",
       "   '/Count': 19,\n",
       "   '/Kids': [IndirectObject(136, 0, 3048467589152),\n",
       "    IndirectObject(137, 0, 3048467589152),\n",
       "    IndirectObject(138, 0, 3048467589152)]}}}"
      ]
     },
     "execution_count": 10,
     "metadata": {},
     "output_type": "execute_result"
    }
   ],
   "source": [
    "page = reader.pages[1]\n",
    "page"
   ]
  },
  {
   "cell_type": "code",
   "execution_count": 11,
   "id": "dffc8f05",
   "metadata": {},
   "outputs": [
    {
     "data": {
      "text/plain": [
       "pypdf._page.PageObject"
      ]
     },
     "execution_count": 11,
     "metadata": {},
     "output_type": "execute_result"
    }
   ],
   "source": [
    "type(page)"
   ]
  },
  {
   "cell_type": "code",
   "execution_count": 12,
   "id": "f6ea6d4b",
   "metadata": {},
   "outputs": [
    {
     "data": {
      "text/plain": [
       "'2/20/23, 10:48 PM Deep Learning Essentials 🧠 . Everything you need to know about Deep… | by Afaque Umer | CodeX | Medium\\nhttps://medium.com/codex/deep-learning-essentials-9cce7a91 1326 2/19Deep learning is a subset of Machine learning inspired by the biological structure and\\nfunctioning of the human brain that uses Artificial neural networks to learn non-\\nredundant information or patterns in data. It’s an effective way to process large\\namounts of information & make predictions. Deep learning is computationally\\nexpensive as it requires a large amount of data and the performance of deep learning\\nmodels is directly proportional to the amount of data we feed.\\nImage Source: Slide by Andrew NG\\nIn recent years the amount of data being generated every day is grown exponentially\\nand the advent of powerful processing units (CPUs/GPUs) has boosted the power of AI,\\nthe performance of AI reaching beyond human capabilities in many specialized areas\\nsuch as Image recognition tools (Computer Vision), natural language processing (NLP),\\nGaming Industry, Robotics and Speech recognition thanks to Technological\\nadvancement.\\n'"
      ]
     },
     "execution_count": 12,
     "metadata": {},
     "output_type": "execute_result"
    }
   ],
   "source": [
    "page.extract_text()"
   ]
  },
  {
   "cell_type": "code",
   "execution_count": 13,
   "id": "7a0ba445",
   "metadata": {
    "scrolled": false
   },
   "outputs": [
    {
     "name": "stdout",
     "output_type": "stream",
     "text": [
      "2/20/23, 10:48 PM Deep Learning Essentials 🧠 . Everything you need to know about Deep… | by Afaque Umer | CodeX | Medium\n",
      "https://medium.com/codex/deep-learning-essentials-9cce7a91 1326 2/19Deep learning is a subset of Machine learning inspired by the biological structure and\n",
      "functioning of the human brain that uses Artificial neural networks to learn non-\n",
      "redundant information or patterns in data. It’s an effective way to process large\n",
      "amounts of information & make predictions. Deep learning is computationally\n",
      "expensive as it requires a large amount of data and the performance of deep learning\n",
      "models is directly proportional to the amount of data we feed.\n",
      "Image Source: Slide by Andrew NG\n",
      "In recent years the amount of data being generated every day is grown exponentially\n",
      "and the advent of powerful processing units (CPUs/GPUs) has boosted the power of AI,\n",
      "the performance of AI reaching beyond human capabilities in many specialized areas\n",
      "such as Image recognition tools (Computer Vision), natural language processing (NLP),\n",
      "Gaming Industry, Robotics and Speech recognition thanks to Technological\n",
      "advancement.\n",
      "\n"
     ]
    }
   ],
   "source": [
    "print(page.extract_text())"
   ]
  },
  {
   "cell_type": "code",
   "execution_count": 14,
   "id": "18062877",
   "metadata": {
    "scrolled": true
   },
   "outputs": [],
   "source": [
    "# print(reader.pages[20].extract_text()) # throws idex exception"
   ]
  },
  {
   "cell_type": "markdown",
   "id": "ae527fa4",
   "metadata": {},
   "source": [
    "## Merge two page objects"
   ]
  },
  {
   "cell_type": "code",
   "execution_count": 15,
   "id": "3e37c15f",
   "metadata": {},
   "outputs": [],
   "source": [
    "page_1 = reader.pages[3]\n",
    "page_2 = reader.pages[4]"
   ]
  },
  {
   "cell_type": "code",
   "execution_count": 16,
   "id": "e1a1a12c",
   "metadata": {},
   "outputs": [],
   "source": [
    "page_1.merge_page(page_2)"
   ]
  },
  {
   "cell_type": "code",
   "execution_count": 17,
   "id": "0c866213",
   "metadata": {
    "scrolled": false
   },
   "outputs": [
    {
     "name": "stdout",
     "output_type": "stream",
     "text": [
      "2/20/23, 10:48 PM Deep Learning Essentials \u000e . Everything you need to know about Deep… | by Afaque Umer | CodeX | Medium\n",
      "https://medium.com/codex/deep-learning-essentials-9cce7a91 1326 4/19It is the ability of a computer to “think” like a human being without any human\n",
      "intervention. AI is not something new, it has been studied for past decades and\n",
      "perhaps for the several next also. In 1950 English Mathematician Alan Turing\n",
      "published a paper entitled “Computing Machinery and Intelligence” which opened the\n",
      "doors to the field that would be called AI.\n",
      "The Imitation Game is a highly recommended movie based on the real-life story of\n",
      "legendary cryptanalyst Alan Turing and his race against time to build a computer that\n",
      "can perform complex permutations faster than any human being could crack the\n",
      "German Enigma code in WWII. It is estimated that Turing’s work shortened the war by\n",
      "two years and saved 14 million lives. Worth watching right? I was so inspired by this\n",
      "movie that I couldn’t help myself from sharing this I  Here’s the link Ł\n",
      "The Imitation Game (2014) - IMDb\n",
      "The Imitation Game: Directed by Morten Tyldum. With Benedict\n",
      "Cumberbatch, Keira Knightley, Matthew Goode, Rory Kinnear…\n",
      "www.imdb.com\n",
      "A few years later John McCarthy, also known as the Father of AI, coined the term\n",
      "“Artificial Intelligence” in a proposal famous Dartmouth conference in the Summer of\n",
      "1956.2/20/23, 10:48 PM Deep Learning Essentials \u000e . Everything you need to know about Deep… | by Afaque Umer | CodeX | Medium\n",
      "https://medium.com/codex/deep-learning-essentials-9cce7a91 1326 5/19Image Source: Great Learning\n",
      "The 3 types of AI T\n",
      "1. ANI( Artificial Narrow Intelligence) is goal-oriented and programmed to perform\n",
      "single tasks such as predicting the weather, facial recognition, speech recognition\n",
      "in voice assistants, driving a car, etc.\n",
      "2. AGI (Artificial General Intelligence) allows machines to think, learn, comprehend\n",
      "and apply their intelligence to solve complex problems and act in a way that is\n",
      "indistinguishable from humans in a given situation, still, a theoretical thought. AGI\n",
      "aims to train machines intelligent enough to truly understand the human facets.\n"
     ]
    }
   ],
   "source": [
    "print(page_1.extract_text())"
   ]
  },
  {
   "cell_type": "markdown",
   "id": "90b7cf18",
   "metadata": {},
   "source": [
    "### Extract All pages"
   ]
  },
  {
   "cell_type": "code",
   "execution_count": 18,
   "id": "e77c3a35",
   "metadata": {},
   "outputs": [],
   "source": [
    "file = open(\"Deep Learning Essentials.pdf\",'rb')\n",
    "\n",
    "# To make index correspond relevant to the page number, adding zero as placeholder.\n",
    "text = [0] \n",
    "\n",
    "reader = PdfReader(file)\n",
    "\n",
    "for page in reader.pages:   \n",
    "    text.append(page.extract_text())\n",
    "\n",
    "file.close()"
   ]
  },
  {
   "cell_type": "code",
   "execution_count": 19,
   "id": "cb72e8fc",
   "metadata": {
    "scrolled": false
   },
   "outputs": [
    {
     "data": {
      "text/plain": [
       "[0,\n",
       " '2/20/23, 10:48 PM Deep Learning Essentials 🧠 . Everything you need to know about Deep… | by Afaque Umer | CodeX | Medium\\nhttps://medium.com/codex/deep-learning-essentials-9cce7a91 1326 1/19Published inCodeX\\nAfaque Umer\\nNov 19, 2022·8 min read· Listen\\nSave\\nDeep Learning Essentials 🧠\\nEverything you need to know about Deep Learning - from Neuron to Neural Networks\\n🔥\\nImage by Pixabay\\nWhat is Deep Learning?\\n 216 3\\nOpen in app Get unlimited access\\nSearch Medium99+\\n',\n",
       " '2/20/23, 10:48 PM Deep Learning Essentials 🧠 . Everything you need to know about Deep… | by Afaque Umer | CodeX | Medium\\nhttps://medium.com/codex/deep-learning-essentials-9cce7a91 1326 2/19Deep learning is a subset of Machine learning inspired by the biological structure and\\nfunctioning of the human brain that uses Artificial neural networks to learn non-\\nredundant information or patterns in data. It’s an effective way to process large\\namounts of information & make predictions. Deep learning is computationally\\nexpensive as it requires a large amount of data and the performance of deep learning\\nmodels is directly proportional to the amount of data we feed.\\nImage Source: Slide by Andrew NG\\nIn recent years the amount of data being generated every day is grown exponentially\\nand the advent of powerful processing units (CPUs/GPUs) has boosted the power of AI,\\nthe performance of AI reaching beyond human capabilities in many specialized areas\\nsuch as Image recognition tools (Computer Vision), natural language processing (NLP),\\nGaming Industry, Robotics and Speech recognition thanks to Technological\\nadvancement.\\n',\n",
       " '2/20/23, 10:48 PM Deep Learning Essentials 🧠 . Everything you need to know about Deep… | by Afaque Umer | CodeX | Medium\\nhttps://medium.com/codex/deep-learning-essentials-9cce7a91 1326 3/19AI vs ML vs DL?\\nImage Source: Wikipedia\\nArtificial intelligence (AI)\\n',\n",
       " '2/20/23, 10:48 PM Deep Learning Essentials 🧠 . Everything you need to know about Deep… | by Afaque Umer | CodeX | Medium\\nhttps://medium.com/codex/deep-learning-essentials-9cce7a91 1326 4/19It is the ability of a computer to “think” like a human being without any human\\nintervention. AI is not something new, it has been studied for past decades and\\nperhaps for the several next also. In 1950 English Mathematician Alan Turing\\npublished a paper entitled “Computing Machinery and Intelligence” which opened the\\ndoors to the field that would be called AI.\\nThe Imitation Game is a highly recommended movie based on the real-life story of\\nlegendary cryptanalyst Alan Turing and his race against time to build a computer that\\ncan perform complex permutations faster than any human being could crack the\\nGerman Enigma code in WWII. It is estimated that Turing’s work shortened the war by\\ntwo years and saved 14 million lives. Worth watching right? I was so inspired by this\\nmovie that I couldn’t help myself from sharing this 😅  Here’s the link 👇\\nThe Imitation Game (2014) - IMDb\\nThe Imitation Game: Directed by Morten Tyldum. With Benedict\\nCumberbatch, Keira Knightley, Matthew Goode, Rory Kinnear…\\nwww.imdb.com\\nA few years later John McCarthy, also known as the Father of AI, coined the term\\n“Artificial Intelligence” in a proposal famous Dartmouth conference in the Summer of\\n1956.',\n",
       " '2/20/23, 10:48 PM Deep Learning Essentials 🧠 . Everything you need to know about Deep… | by Afaque Umer | CodeX | Medium\\nhttps://medium.com/codex/deep-learning-essentials-9cce7a91 1326 5/19Image Source: Great Learning\\nThe 3 types of AI 🤖\\n1. ANI( Artificial Narrow Intelligence) is goal-oriented and programmed to perform\\nsingle tasks such as predicting the weather, facial recognition, speech recognition\\nin voice assistants, driving a car, etc.\\n2. AGI (Artificial General Intelligence) allows machines to think, learn, comprehend\\nand apply their intelligence to solve complex problems and act in a way that is\\nindistinguishable from humans in a given situation, still, a theoretical thought. AGI\\naims to train machines intelligent enough to truly understand the human facets.',\n",
       " '2/20/23, 10:48 PM Deep Learning Essentials 🧠 . Everything you need to know about Deep… | by Afaque Umer | CodeX | Medium\\nhttps://medium.com/codex/deep-learning-essentials-9cce7a91 1326 6/193. ASI (Artificial Super Intelligence) is a hypothetical AI where machines are capable\\nof exhibiting intelligence that surpasses the brightest humans, technology far\\nmore capable than a human in every single aspect, a touch scary 👽 , isn’t it?\\nMachine learning\\nIt is a subset of AI that uses algorithms to allow computers to learn on their own\\nwithout being explicitly programmed. Machine learning uses various statistical\\nalgorithms to leverage structured /unstructured - labeled / unlabelled data to make\\npredictions by extracting patterns.',\n",
       " '2/20/23, 10:48 PM Deep Learning Essentials 🧠 . Everything you need to know about Deep… | by Afaque Umer | CodeX | Medium\\nhttps://medium.com/codex/deep-learning-essentials-9cce7a91 1326 7/19Image Source: Sogetilabs\\nAn example might be a self-driving car that learns by analyzing millions of miles\\ndriven over time how best to safely navigate roads at different hours of day and night\\nunder different weather conditions.',\n",
       " '2/20/23, 10:48 PM Deep Learning Essentials 🧠 . Everything you need to know about Deep… | by Afaque Umer | CodeX | Medium\\nhttps://medium.com/codex/deep-learning-essentials-9cce7a91 1326 8/19Image Source: scikit-learn\\nDeep learning\\nIt is an approach in machine learning that involves multiple layers of hidden layers\\nwithin an artificial neural network for improved accuracy in making predictions.\\nMachine learning requires data preprocessing, which involves human intervention\\nwhile neural networks in deep learning are capable of extracting features; hence no\\nhuman intervention is required.',\n",
       " '2/20/23, 10:48 PM Deep Learning Essentials 🧠 . Everything you need to know about Deep… | by Afaque Umer | CodeX | Medium\\nhttps://medium.com/codex/deep-learning-essentials-9cce7a91 1326 9/19Image Source: Here\\nDue to the complex multi-layer structure, a deep learning system needs a large dataset\\n- Big Data to eliminate fluctuations and make high-quality interpretations.\\nWhat are Neural Networks?\\nAt the heart of deep learning algorithms, there is a hierarchical organization of\\nneurons (similar to the neurons in the brain) in layers, with neurons a.k.a nodes\\nconnected to other neurons forming a layered neural network known as an Artificial\\nNeural Network(ANN).',\n",
       " '2/20/23, 10:48 PM Deep Learning Essentials 🧠 . Everything you need to know about Deep… | by Afaque Umer | CodeX | Medium\\nhttps://medium.com/codex/deep-learning-essentials-9cce7a91 1326 10/19Image Credit: IBM\\nThere are 3 layers to a Neural network - The input layer, the Hidden layer, and the\\nOutput layer. The most basic ANN can be made up of 2 layers (1 input & 1 Output with\\n0 hidden layers). It’s known as a deep neural network because of the number of hidden\\nlayers, the greater the number of hidden layers the deeper the network becomes.\\nThe neuron is the basic building block of a neural net. It is also known as\\nnode/perceptron.“Neurons that fire together, wire together” - Neurons send signals in a\\nfeed-forward / backpropagation ( 👈  we’ll cover this in the latter half) fashion. If the\\noutput of any individual neuron is above the specified threshold value, that node is\\nactivated, and data is passed from one layer to the next, from the extreme left(Input\\nLayer) to the extreme right(Output layer) with some feedback mechanism until the\\nalgorithms learn the weights & biases for the desired output.\\n',\n",
       " '2/20/23, 10:48 PM Deep Learning Essentials 🧠 . Everything you need to know about Deep… | by Afaque Umer | CodeX | Medium\\nhttps://medium.com/codex/deep-learning-essentials-9cce7a91 1326 11/19Image Credit: Here\\nDisintegrating the Neural Network 🛠\\nStep 1: The Inputs\\nThe process begins in the neural network at the input layer where the input layer is\\ningest data/input values. These are independent variables and for neural nets, these\\nare usually either standardized or normalized depending on the problem that we are\\nsolving.',\n",
       " '2/20/23, 10:48 PM Deep Learning Essentials 🧠 . Everything you need to know about Deep… | by Afaque Umer | CodeX | Medium\\nhttps://medium.com/codex/deep-learning-essentials-9cce7a91 1326 12/19Image Source: stackoverflow\\nStep 2: Weighted Sum\\nAfter that, each input value/signal is assigned some random weights. These weights are\\nthe sole parameter that decides which input parameter is more important or has a\\nstrong relationship with the output. These weights are adjusted through the process of\\nlearning (gradient descent/ backpropagation). The weights are multiplied by the\\nrespective inputs and all are passed to the neuron. The products thus received are\\nadded up inside the neuron which we call the Weighted Sum.\\nImage by Author\\nStep 3: Activation Function\\nA bias is added to the weighted sum, which is the same as the intercept in a linear\\nequation. It is added just to improve the performance of the model. The resulting sum\\nis then passed into the activation function which decides the fate of the neuron and',\n",
       " '2/20/23, 10:48 PM Deep Learning Essentials 🧠 . Everything you need to know about Deep… | by Afaque Umer | CodeX | Medium\\nhttps://medium.com/codex/deep-learning-essentials-9cce7a91 1326 13/19whether it can be activated or not for passing the signal forward, hence the name\\nActivation Function.\\nImage by Author\\nThis is a very crucial step & a necessity, if activation is not applied to a neuron, all the\\nneurons across the dimensions will be simply doing a linear transformation of the\\ninputs and our model will be nothing more than a linear regression model.\\nThere are various activation functions. You can see it here. the most widely used ones\\nare',\n",
       " '2/20/23, 10:48 PM Deep Learning Essentials 🧠 . Everything you need to know about Deep… | by Afaque Umer | CodeX | Medium\\nhttps://medium.com/codex/deep-learning-essentials-9cce7a91 1326 14/19Image Source: Kaggle\\n1. Sigmoid: This function gives output in the range of 0 to 1. For small values (<-5), it\\nreturns a value close to 0, and for large values (>5) the result of the function gets\\nclose to 1.\\n2. ReLU (Rectified Linear Unit): The function returns 0 if it receives any negative\\ninput, but for any positive value it returns that value back as max(x, 0).\\nStep 4: The Output Layer\\nIt’s the final layer of the network that brings the information learned through the\\nhidden layer and delivers the final value as a result. The output value can be Binary,\\nContinous, or Categorical (discrete or real), depending on the activation function used\\nfor classification, predicting, or generating data. The last step is to calculate the errors\\nby taking the difference between the actual and predicted value.\\nSo this is what happens at a single node/node/neuron of the layer. We can add many\\nperceptrons 👇  in one layer and all will be going through the same process.',\n",
       " '2/20/23, 10:48 PM Deep Learning Essentials 🧠 . Everything you need to know about Deep… | by Afaque Umer | CodeX | Medium\\nhttps://medium.com/codex/deep-learning-essentials-9cce7a91 1326 15/19Image Source: An illustrated Guide to NN\\nand of course, we can add as many layers as our hardware can handle :) to make the\\nneural net really deep and powerful. Generally, a network with more than three layers\\n(including input and output) qualifies as deep learning. By scaling up the number of\\nneurons and layers 👇  we can make models powerful enough to solve complex\\nproblems/patterns by handling millions and billions of parameters.\\nImage source: An illustrated Guide to NN',\n",
       " '2/20/23, 10:48 PM Deep Learning Essentials 🧠 . Everything you need to know about Deep… | by Afaque Umer | CodeX | Medium\\nhttps://medium.com/codex/deep-learning-essentials-9cce7a91 1326 16/19But how do the Neurons learn?\\nFeedforward vs. Backpropagation\\nThe above process where the values went from the input layer to the output layer is\\nknown as Feed Forward Algorithm or Forward Propagation & it is quite obvious.\\nOnce we calculate the error we need to minimize it & for that, we’ll have to adjust the\\nweights manually for each node to understand the effect this pain is beyond\\nimagination 🥵🤯\\nThis gave rise to Backpropagation, it’s an algorithm designed for adjusting weights based\\non errors obtained from output values at the same time.\\nImage Source: Towards AI\\nTop 3 Deep Learning Frameworks 🔥\\n1. TensorFlow: It’s an open-source framework developed by Brain Team - Google Research\\nto run machine learning, deep learning, and other statistical and predictive',\n",
       " '2/20/23, 10:48 PM Deep Learning Essentials 🧠 . Everything you need to know about Deep… | by Afaque Umer | CodeX | Medium\\nhttps://medium.com/codex/deep-learning-essentials-9cce7a91 1326 17/19analytics workloads. It can be used across a range of tasks but has a particular\\nfocus on training and inference of deep neural networks.\\n2. PyTorch: This framework is based on the Torch library, used for applications such\\nas Computer vision and natural language processing, originally developed by Meta\\nAI and now part of the  Linux Foundation umbrella.\\n3. Keras: An open-source software library that provides a Python interface for\\nartificial neural networks. Keras acts as an interface for the TensorFlow library.\\nDeep Learning Use Cases 🧠\\n1. Healthcare.\\n2. Autonomous Vehicles.\\n3. Virtual Assistants.\\n4. Fraud Detection.\\n5. Personalizations.\\n6. Computer Vision.\\n7. Agriculture.\\n8. Natural Language Processing.\\n9. Speech Recognition.\\n10. Translations etc\\nLimitations 🤨  ?\\n1. It needs a huge amount of data - Big Data.\\n2. Expensive to implement.\\nAnd this brings us to the end of this blog post 🛑 . Congratulations 🥳\\nI hope I was able to unriddle some buzzwords around deep learning. If you have any\\nquestions or I have missed anything here 👆  feel free to fire them down in the',\n",
       " '2/20/23, 10:48 PM Deep Learning Essentials 🧠 . Everything you need to know about Deep… | by Afaque Umer | CodeX | Medium\\nhttps://medium.com/codex/deep-learning-essentials-9cce7a91 1326 18/19comments section.\\nI will try to bring up more Machine learning/Data science concepts and will try to\\nbreak down fancy-sounding terms and concepts into simpler ones.\\nI hope you enjoyed this article! You can follow me Afaque Umer for more such articles.\\nThanks for reading 🙏 Keep learning 🧠  Keep Sharing 🤝  Stay Awesome 🤘\\nReferences:\\n1. IBM\\n2. Analytics Vidhya\\n3. Towards Data Science\\n4. Javtpoint\\n5. v7labs',\n",
       " \"2/20/23, 10:48 PM Deep Learning Essentials 🧠 . Everything you need to know about Deep… | by Afaque Umer | CodeX | Medium\\nhttps://medium.com/codex/deep-learning-essentials-9cce7a91 1326 19/196. Wikipedia\\nSign up for CrunchX\\nBy CodeX\\nA weekly newsletter on what's going on around the tech and programming space\\xa0Take a look.\\nEmails will be sent to afaqueumer33@gmail.com.\\xa0Not you?\\nGet this newsletterDeep Learning Machine Learning Artificial Intelligence Neural Networks\\nPython Programmi ng\"]"
      ]
     },
     "execution_count": 19,
     "metadata": {},
     "output_type": "execute_result"
    }
   ],
   "source": [
    "text"
   ]
  },
  {
   "cell_type": "markdown",
   "id": "4b1040ec",
   "metadata": {},
   "source": [
    "### Encrypt and Decrypt"
   ]
  },
  {
   "cell_type": "code",
   "execution_count": 20,
   "id": "c073481d",
   "metadata": {},
   "outputs": [],
   "source": [
    "reader = PdfReader(\"Deep Learning Essentials.pdf\")\n",
    "writer = PdfWriter()\n",
    "\n",
    "# Add all pages to the writer\n",
    "for page in reader.pages:\n",
    "    writer.add_page(page)\n",
    "\n",
    "# Add a password to the new PDF\n",
    "writer.encrypt(\"deep\")\n",
    "\n",
    "# Save the new PDF to a file\n",
    "with open(\"encrypted-pdf.pdf\", \"wb\") as f:\n",
    "    writer.write(f)"
   ]
  },
  {
   "cell_type": "code",
   "execution_count": 21,
   "id": "01afa3dc",
   "metadata": {},
   "outputs": [
    {
     "data": {
      "text/plain": [
       "False"
      ]
     },
     "execution_count": 21,
     "metadata": {},
     "output_type": "execute_result"
    }
   ],
   "source": [
    "reader.is_encrypted"
   ]
  },
  {
   "cell_type": "code",
   "execution_count": 22,
   "id": "d5930b4e",
   "metadata": {},
   "outputs": [
    {
     "data": {
      "text/plain": [
       "True"
      ]
     },
     "execution_count": 22,
     "metadata": {},
     "output_type": "execute_result"
    }
   ],
   "source": [
    "reader = PdfReader(\"encrypted-pdf.pdf\")\n",
    "reader.is_encrypted"
   ]
  },
  {
   "cell_type": "code",
   "execution_count": 23,
   "id": "21e7cd0d",
   "metadata": {},
   "outputs": [],
   "source": [
    "reader = PdfReader(\"encrypted-pdf.pdf\")\n",
    "writer = PdfWriter()\n",
    "\n",
    "if reader.is_encrypted:\n",
    "    reader.decrypt(\"deep\")\n",
    "\n",
    "# Add all pages to the writer\n",
    "for page in reader.pages:\n",
    "    writer.add_page(page)\n",
    "\n",
    "# Save the new PDF to a file\n",
    "with open(\"decrypted.pdf\", \"wb\") as f:\n",
    "    writer.write(f)"
   ]
  },
  {
   "cell_type": "markdown",
   "id": "fc605785",
   "metadata": {},
   "source": [
    "### Stream text"
   ]
  },
  {
   "cell_type": "code",
   "execution_count": 24,
   "id": "2f745f97",
   "metadata": {},
   "outputs": [],
   "source": [
    "from io import BytesIO\n",
    "with open(\"Deep Learning Essentials.pdf\", \"rb\") as fh:\n",
    "    bytes_stream = BytesIO(fh.read())"
   ]
  },
  {
   "cell_type": "code",
   "execution_count": 25,
   "id": "bfc8d73b",
   "metadata": {},
   "outputs": [
    {
     "data": {
      "text/plain": [
       "<_io.BytesIO at 0x2c5c705e6d0>"
      ]
     },
     "execution_count": 25,
     "metadata": {},
     "output_type": "execute_result"
    }
   ],
   "source": [
    "bytes_stream"
   ]
  },
  {
   "cell_type": "code",
   "execution_count": 26,
   "id": "534ceba7",
   "metadata": {
    "scrolled": true
   },
   "outputs": [
    {
     "data": {
      "text/plain": [
       "'2/20/23, 10:48 PM Deep Learning Essentials 🧠 . Everything you need to know about Deep… | by Afaque Umer | CodeX | Medium\\nhttps://medium.com/codex/deep-learning-essentials-9cce7a91 1326 2/19Deep learning is a subset of Machine learning inspired by the biological structure and\\nfunctioning of the human brain that uses Artificial neural networks to learn non-\\nredundant information or patterns in data. It’s an effective way to process large\\namounts of information & make predictions. Deep learning is computationally\\nexpensive as it requires a large amount of data and the performance of deep learning\\nmodels is directly proportional to the amount of data we feed.\\nImage Source: Slide by Andrew NG\\nIn recent years the amount of data being generated every day is grown exponentially\\nand the advent of powerful processing units (CPUs/GPUs) has boosted the power of AI,\\nthe performance of AI reaching beyond human capabilities in many specialized areas\\nsuch as Image recognition tools (Computer Vision), natural language processing (NLP),\\nGaming Industry, Robotics and Speech recognition thanks to Technological\\nadvancement.\\n'"
      ]
     },
     "execution_count": 26,
     "metadata": {},
     "output_type": "execute_result"
    }
   ],
   "source": [
    "# Read from bytes_stream\n",
    "reader = PdfReader(bytes_stream)\n",
    "page = reader.pages[1]\n",
    "page.extract_text()"
   ]
  },
  {
   "cell_type": "markdown",
   "id": "dd17e2ae",
   "metadata": {},
   "source": [
    "### Write PDF"
   ]
  },
  {
   "cell_type": "code",
   "execution_count": 27,
   "id": "3af88561",
   "metadata": {},
   "outputs": [],
   "source": [
    "# For writing pdf we can do copy and append pages.\n",
    "writer = PdfWriter()\n",
    "with open(\"decrypted.pdf\", \"rb\") as rf:\n",
    "    reader = PdfReader(rf)\n",
    "    writer.add_page(reader.pages[0])\n",
    "    writer.add_blank_page() # Add a blank page in between\n",
    "    writer.add_page(reader.pages[1])\n",
    "\n",
    "with open(\"writer-sample.pdf\",\"wb\") as wf:\n",
    "    writer.write(wf)"
   ]
  }
 ],
 "metadata": {
  "kernelspec": {
   "display_name": "Python 3 (ipykernel)",
   "language": "python",
   "name": "python3"
  },
  "language_info": {
   "codemirror_mode": {
    "name": "ipython",
    "version": 3
   },
   "file_extension": ".py",
   "mimetype": "text/x-python",
   "name": "python",
   "nbconvert_exporter": "python",
   "pygments_lexer": "ipython3",
   "version": "3.9.13"
  }
 },
 "nbformat": 4,
 "nbformat_minor": 5
}
